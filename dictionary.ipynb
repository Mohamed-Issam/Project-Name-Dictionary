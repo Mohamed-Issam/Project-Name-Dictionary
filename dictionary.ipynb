{
 "cells": [
  {
   "cell_type": "code",
   "execution_count": null,
   "outputs": [],
   "source": [
    "import openpyxl\n",
    "import os\n",
    "from tkinter import Tk\n",
    "\n",
    "folder_dir = os.getcwd()\n",
    "file = '04-POC Apr 2023 Actual Cost 16-5-2023.xlsx'\n",
    "file_path = os.path.join(folder_dir,file)\n",
    "wb_poc = openpyxl.load_workbook(file_path,read_only=True,data_only=True)\n",
    "ws = wb_poc.get_sheet_by_name('Mataching')\n",
    "\n",
    "# Prompt user to select Excel file\n",
    "root = Tk()\n",
    "root.withdraw()\n",
    "excel_file_path = askopenfilename(title='Choose your excel POC file', filetypes=[(\"Excel files\", \"*.xlsx\")])\n",
    "root.destroy()\n",
    "\n",
    "# Creating a dictionary with our names from a predefined excel sheet that can be updated if more projects are added for the future\n",
    "dict = {}\n",
    "c = 0\n",
    "for i in range(2,503): # assumed number of possible project names wouldn't exceed 500\n",
    "    if ws.cell(i,2).value  is not None:\n",
    "        # key would be cost control naming and value would be financial's naming\n",
    "        dict[ws.cell(i,5).value] = ws.cell(i,2).value\n",
    "    else:\n",
    "        c += 1\n",
    "    if c > 3:\n",
    "        break # to avoid iterating over empty rows\n",
    "wb_poc.close()\n",
    "\n",
    "\n",
    "\n",
    "\n",
    "\n",
    "\n"
   ],
   "metadata": {
    "collapsed": false,
    "pycharm": {
     "name": "#%%\n"
    }
   }
  },
  {
   "cell_type": "code",
   "execution_count": null,
   "outputs": [],
   "source": [
    "from tkinter import Tk\n",
    "from tkinter.filedialog import askopenfilename\n",
    "import os\n",
    "# Prompt user to select Excel file\n",
    "root = Tk()\n",
    "root.withdraw()\n",
    "ini_file_path = os.getcwd()\n",
    "excel_file_path = askopenfilename(title='Choose your excel POC file', filetypes=[(\"Excel files\", \"*.xlsx\")], initialdir=ini_file_path)\n",
    "root.destroy()\n",
    "excel_file_path"
   ],
   "metadata": {
    "collapsed": false,
    "pycharm": {
     "name": "#%%\n"
    }
   }
  },
  {
   "cell_type": "code",
   "execution_count": null,
   "outputs": [],
   "source": [
    "root.destroy()"
   ],
   "metadata": {
    "collapsed": false,
    "pycharm": {
     "name": "#%%\n"
    }
   }
  },
  {
   "cell_type": "code",
   "execution_count": null,
   "outputs": [],
   "source": [
    "from tkinter import Tk\n",
    "from tkinter.filedialog import askopenfilename\n",
    "import os\n",
    "\n",
    "# Prompt user to select Excel file\n",
    "root = Tk()\n",
    "root.withdraw()\n",
    "\n",
    "# Set the initial directory for the file dialog to the current working directory\n",
    "initial_dir = os.getcwd()\n",
    "\n",
    "# Open the file dialog to choose the Excel file\n",
    "excel_file_path = askopenfilename(\n",
    "    title='Choose your excel POC file',\n",
    "    filetypes=[(\"Excel files\", \"*.xlsx\")],\n",
    "    initialdir=initial_dir\n",
    ")\n",
    "\n",
    "root.destroy()\n",
    "\n",
    "# Print the selected file path\n",
    "print(\"Selected Excel file:\", excel_file_path)\n"
   ],
   "metadata": {
    "collapsed": false,
    "pycharm": {
     "name": "#%%\n"
    }
   }
  },
  {
   "cell_type": "code",
   "execution_count": null,
   "outputs": [],
   "source": [
    "import openpyxl\n",
    "import os\n",
    "\n",
    "file_path = os.getcwd()\n",
    "file_name = '00.Revenue-cost 2023-0-15-5-2023 2.xlsx'\n",
    "file = os.path.join(file_path, file_name)\n",
    "wb = openpyxl.load_workbook(file, read_only=True, data_only=True)\n",
    "ws = wb.worksheets[0]\n",
    "\n",
    "#getting last column\n",
    "c=1\n",
    "while ws.cell(5,c).value != \"\":\n",
    "    lastcol = ws.cell(5,c).column\n",
    "    c+=1\n",
    "lastcol\n",
    "wb.close()"
   ],
   "metadata": {
    "collapsed": false,
    "pycharm": {
     "name": "#%%\n"
    }
   }
  },
  {
   "cell_type": "code",
   "execution_count": 1,
   "outputs": [
    {
     "data": {
      "text/plain": "        Project                                0                   0.1  \\\n0    Description  Kayan 3 New Cairo Capital City  Ministries Buildings   \n1            NaN                  ARMY/KYAN/1446                  0060   \n2            NaN                             NaN                   NaN   \n3      Contracts                      1316334942            2740570200   \n4      Contracts                      1316334942            2740570200   \n..           ...                             ...                   ...   \n347          NaN                               0                     0   \n348          NaN                               0                     0   \n349    Sub Total                               0                     0   \n350        Total                               0                     0   \n351          NaN                               0                   NaN   \n\n            0.2        MAXM/MXCM/1305               0.3  \\\n0    Royal City  Mohammed Ali Palace       R05 - Zone 2   \n1          0063                  0078              0088   \n2           NaN                   NaN               NaN   \n3     558284383      141426555.571429  2873373384.46708   \n4     558284383      141426555.571429  2873373384.46708   \n..          ...                   ...               ...   \n347           0                     0                 0   \n348           0                     0                 0   \n349           0                     0                 0   \n350           0                     0                 0   \n351         NaN                   NaN               NaN   \n\n                              0030            EMAR/ITPR/11226  \\\n0    EDNC Offices & Retail Project  Olympic Multi Sports Hall   \n1                             0092                       0099   \n2                              NaN                        NaN   \n3                       1145187121               1165356801.5   \n4                       1145187121               1165356801.5   \n..                             ...                        ...   \n347                              0                          0   \n348                              0                          0   \n349                              0                          0   \n350                              0                          0   \n351                            NaN                        NaN   \n\n                 0032                            0.4  ... 0068 0074 0075 0076  \\\n0        CFC Podium 2  El Sewedy University phase II  ...  NaN  NaN  NaN  NaN   \n1                0113                           0119  ...  NaN  NaN  NaN  NaN   \n2                 NaN                            NaN  ...  NaN  NaN  NaN  NaN   \n3    637419839.063495                      608748209  ...  NaN  NaN  NaN  NaN   \n4    637419839.063495                      608748209  ...  NaN  NaN  NaN  NaN   \n..                ...                            ...  ...  ...  ...  ...  ...   \n347                 0                              0  ...  NaN  NaN  NaN  NaN   \n348                 0                              0  ...  NaN  NaN  NaN  NaN   \n349                 0                              0  ...  NaN  NaN  NaN  NaN   \n350                 0                              0  ...  NaN  NaN  NaN  NaN   \n351               NaN                            NaN  ...  NaN  NaN  NaN  NaN   \n\n    0081 0079 0078 0080 0083 0084  \n0    NaN  NaN  NaN  NaN  NaN  NaN  \n1    NaN  NaN  NaN  NaN  NaN  NaN  \n2    NaN  NaN  NaN  NaN  NaN  NaN  \n3    NaN  NaN  NaN  NaN  NaN  NaN  \n4    NaN  NaN  NaN  NaN  NaN  NaN  \n..   ...  ...  ...  ...  ...  ...  \n347  NaN  NaN  NaN  NaN  NaN  NaN  \n348  NaN  NaN  NaN  NaN  NaN  NaN  \n349  NaN  NaN  NaN  NaN  NaN  NaN  \n350  NaN  NaN  NaN  NaN  NaN  NaN  \n351  NaN  NaN  NaN  NaN  NaN  NaN  \n\n[352 rows x 97 columns]",
      "text/html": "<div>\n<style scoped>\n    .dataframe tbody tr th:only-of-type {\n        vertical-align: middle;\n    }\n\n    .dataframe tbody tr th {\n        vertical-align: top;\n    }\n\n    .dataframe thead th {\n        text-align: right;\n    }\n</style>\n<table border=\"1\" class=\"dataframe\">\n  <thead>\n    <tr style=\"text-align: right;\">\n      <th></th>\n      <th>Project</th>\n      <th>0</th>\n      <th>0.1</th>\n      <th>0.2</th>\n      <th>MAXM/MXCM/1305</th>\n      <th>0.3</th>\n      <th>0030</th>\n      <th>EMAR/ITPR/11226</th>\n      <th>0032</th>\n      <th>0.4</th>\n      <th>...</th>\n      <th>0068</th>\n      <th>0074</th>\n      <th>0075</th>\n      <th>0076</th>\n      <th>0081</th>\n      <th>0079</th>\n      <th>0078</th>\n      <th>0080</th>\n      <th>0083</th>\n      <th>0084</th>\n    </tr>\n  </thead>\n  <tbody>\n    <tr>\n      <th>0</th>\n      <td>Description</td>\n      <td>Kayan 3 New Cairo Capital City</td>\n      <td>Ministries Buildings</td>\n      <td>Royal City</td>\n      <td>Mohammed Ali Palace</td>\n      <td>R05 - Zone 2</td>\n      <td>EDNC Offices &amp; Retail Project</td>\n      <td>Olympic Multi Sports Hall</td>\n      <td>CFC Podium 2</td>\n      <td>El Sewedy University phase II</td>\n      <td>...</td>\n      <td>NaN</td>\n      <td>NaN</td>\n      <td>NaN</td>\n      <td>NaN</td>\n      <td>NaN</td>\n      <td>NaN</td>\n      <td>NaN</td>\n      <td>NaN</td>\n      <td>NaN</td>\n      <td>NaN</td>\n    </tr>\n    <tr>\n      <th>1</th>\n      <td>NaN</td>\n      <td>ARMY/KYAN/1446</td>\n      <td>0060</td>\n      <td>0063</td>\n      <td>0078</td>\n      <td>0088</td>\n      <td>0092</td>\n      <td>0099</td>\n      <td>0113</td>\n      <td>0119</td>\n      <td>...</td>\n      <td>NaN</td>\n      <td>NaN</td>\n      <td>NaN</td>\n      <td>NaN</td>\n      <td>NaN</td>\n      <td>NaN</td>\n      <td>NaN</td>\n      <td>NaN</td>\n      <td>NaN</td>\n      <td>NaN</td>\n    </tr>\n    <tr>\n      <th>2</th>\n      <td>NaN</td>\n      <td>NaN</td>\n      <td>NaN</td>\n      <td>NaN</td>\n      <td>NaN</td>\n      <td>NaN</td>\n      <td>NaN</td>\n      <td>NaN</td>\n      <td>NaN</td>\n      <td>NaN</td>\n      <td>...</td>\n      <td>NaN</td>\n      <td>NaN</td>\n      <td>NaN</td>\n      <td>NaN</td>\n      <td>NaN</td>\n      <td>NaN</td>\n      <td>NaN</td>\n      <td>NaN</td>\n      <td>NaN</td>\n      <td>NaN</td>\n    </tr>\n    <tr>\n      <th>3</th>\n      <td>Contracts</td>\n      <td>1316334942</td>\n      <td>2740570200</td>\n      <td>558284383</td>\n      <td>141426555.571429</td>\n      <td>2873373384.46708</td>\n      <td>1145187121</td>\n      <td>1165356801.5</td>\n      <td>637419839.063495</td>\n      <td>608748209</td>\n      <td>...</td>\n      <td>NaN</td>\n      <td>NaN</td>\n      <td>NaN</td>\n      <td>NaN</td>\n      <td>NaN</td>\n      <td>NaN</td>\n      <td>NaN</td>\n      <td>NaN</td>\n      <td>NaN</td>\n      <td>NaN</td>\n    </tr>\n    <tr>\n      <th>4</th>\n      <td>Contracts</td>\n      <td>1316334942</td>\n      <td>2740570200</td>\n      <td>558284383</td>\n      <td>141426555.571429</td>\n      <td>2873373384.46708</td>\n      <td>1145187121</td>\n      <td>1165356801.5</td>\n      <td>637419839.063495</td>\n      <td>608748209</td>\n      <td>...</td>\n      <td>NaN</td>\n      <td>NaN</td>\n      <td>NaN</td>\n      <td>NaN</td>\n      <td>NaN</td>\n      <td>NaN</td>\n      <td>NaN</td>\n      <td>NaN</td>\n      <td>NaN</td>\n      <td>NaN</td>\n    </tr>\n    <tr>\n      <th>...</th>\n      <td>...</td>\n      <td>...</td>\n      <td>...</td>\n      <td>...</td>\n      <td>...</td>\n      <td>...</td>\n      <td>...</td>\n      <td>...</td>\n      <td>...</td>\n      <td>...</td>\n      <td>...</td>\n      <td>...</td>\n      <td>...</td>\n      <td>...</td>\n      <td>...</td>\n      <td>...</td>\n      <td>...</td>\n      <td>...</td>\n      <td>...</td>\n      <td>...</td>\n      <td>...</td>\n    </tr>\n    <tr>\n      <th>347</th>\n      <td>NaN</td>\n      <td>0</td>\n      <td>0</td>\n      <td>0</td>\n      <td>0</td>\n      <td>0</td>\n      <td>0</td>\n      <td>0</td>\n      <td>0</td>\n      <td>0</td>\n      <td>...</td>\n      <td>NaN</td>\n      <td>NaN</td>\n      <td>NaN</td>\n      <td>NaN</td>\n      <td>NaN</td>\n      <td>NaN</td>\n      <td>NaN</td>\n      <td>NaN</td>\n      <td>NaN</td>\n      <td>NaN</td>\n    </tr>\n    <tr>\n      <th>348</th>\n      <td>NaN</td>\n      <td>0</td>\n      <td>0</td>\n      <td>0</td>\n      <td>0</td>\n      <td>0</td>\n      <td>0</td>\n      <td>0</td>\n      <td>0</td>\n      <td>0</td>\n      <td>...</td>\n      <td>NaN</td>\n      <td>NaN</td>\n      <td>NaN</td>\n      <td>NaN</td>\n      <td>NaN</td>\n      <td>NaN</td>\n      <td>NaN</td>\n      <td>NaN</td>\n      <td>NaN</td>\n      <td>NaN</td>\n    </tr>\n    <tr>\n      <th>349</th>\n      <td>Sub Total</td>\n      <td>0</td>\n      <td>0</td>\n      <td>0</td>\n      <td>0</td>\n      <td>0</td>\n      <td>0</td>\n      <td>0</td>\n      <td>0</td>\n      <td>0</td>\n      <td>...</td>\n      <td>NaN</td>\n      <td>NaN</td>\n      <td>NaN</td>\n      <td>NaN</td>\n      <td>NaN</td>\n      <td>NaN</td>\n      <td>NaN</td>\n      <td>NaN</td>\n      <td>NaN</td>\n      <td>NaN</td>\n    </tr>\n    <tr>\n      <th>350</th>\n      <td>Total</td>\n      <td>0</td>\n      <td>0</td>\n      <td>0</td>\n      <td>0</td>\n      <td>0</td>\n      <td>0</td>\n      <td>0</td>\n      <td>0</td>\n      <td>0</td>\n      <td>...</td>\n      <td>NaN</td>\n      <td>NaN</td>\n      <td>NaN</td>\n      <td>NaN</td>\n      <td>NaN</td>\n      <td>NaN</td>\n      <td>NaN</td>\n      <td>NaN</td>\n      <td>NaN</td>\n      <td>NaN</td>\n    </tr>\n    <tr>\n      <th>351</th>\n      <td>NaN</td>\n      <td>0</td>\n      <td>NaN</td>\n      <td>NaN</td>\n      <td>NaN</td>\n      <td>NaN</td>\n      <td>NaN</td>\n      <td>NaN</td>\n      <td>NaN</td>\n      <td>NaN</td>\n      <td>...</td>\n      <td>NaN</td>\n      <td>NaN</td>\n      <td>NaN</td>\n      <td>NaN</td>\n      <td>NaN</td>\n      <td>NaN</td>\n      <td>NaN</td>\n      <td>NaN</td>\n      <td>NaN</td>\n      <td>NaN</td>\n    </tr>\n  </tbody>\n</table>\n<p>352 rows × 97 columns</p>\n</div>"
     },
     "execution_count": 1,
     "metadata": {},
     "output_type": "execute_result"
    }
   ],
   "source": [
    "import pandas as pd\n",
    "df = pd.read_excel('0. Copy of 04-POC Apr 2023- After Reflecting all Year Cost.xlsx', sheet_name='2022')\n",
    "df"
   ],
   "metadata": {
    "collapsed": false,
    "pycharm": {
     "name": "#%%\n"
    }
   }
  },
  {
   "cell_type": "code",
   "execution_count": 1,
   "outputs": [
    {
     "ename": "NameError",
     "evalue": "name 'root' is not defined",
     "output_type": "error",
     "traceback": [
      "\u001B[1;31m---------------------------------------------------------------------------\u001B[0m",
      "\u001B[1;31mNameError\u001B[0m                                 Traceback (most recent call last)",
      "Input \u001B[1;32mIn [1]\u001B[0m, in \u001B[0;36m<cell line: 1>\u001B[1;34m()\u001B[0m\n\u001B[1;32m----> 1\u001B[0m \u001B[43mroot\u001B[49m\u001B[38;5;241m.\u001B[39mdestroy()\n",
      "\u001B[1;31mNameError\u001B[0m: name 'root' is not defined"
     ]
    }
   ],
   "source": [
    "root.destroy()"
   ],
   "metadata": {
    "collapsed": false,
    "pycharm": {
     "name": "#%%\n"
    }
   }
  },
  {
   "cell_type": "code",
   "execution_count": null,
   "outputs": [],
   "source": [
    "from tkinter import Tk\n",
    "from tkinter.filedialog import askopenfilename\n",
    "import os\n",
    "\n",
    "# Prompt user to select Excel file\n",
    "root = Tk()\n",
    "root.withdraw()\n",
    "\n",
    "# Set the initial directory for the file dialog to the current working directory\n",
    "initial_dir = os.getcwd()\n",
    "\n",
    "# Open the file dialog to choose the Excel file\n",
    "excel_file_path = askopenfilename(\n",
    "    title='Choose your excel POC file',\n",
    "    filetypes=[(\"Excel files\", \"*.xlsx\")],\n",
    "    initialdir=initial_dir\n",
    ")\n",
    "\n",
    "root.destroy()\n",
    "\n",
    "# Print the selected file path\n",
    "print(\"Selected Excel file:\", excel_file_path)\n"
   ],
   "metadata": {
    "collapsed": false,
    "pycharm": {
     "name": "#%%\n"
    }
   }
  },
  {
   "cell_type": "code",
   "execution_count": 25,
   "outputs": [
    {
     "ename": "AttributeError",
     "evalue": "'EmptyCell' object has no attribute 'column'",
     "output_type": "error",
     "traceback": [
      "\u001B[1;31m---------------------------------------------------------------------------\u001B[0m",
      "\u001B[1;31mAttributeError\u001B[0m                            Traceback (most recent call last)",
      "Input \u001B[1;32mIn [25]\u001B[0m, in \u001B[0;36m<cell line: 12>\u001B[1;34m()\u001B[0m\n\u001B[0;32m     11\u001B[0m c\u001B[38;5;241m=\u001B[39m\u001B[38;5;241m1\u001B[39m\n\u001B[0;32m     12\u001B[0m \u001B[38;5;28;01mwhile\u001B[39;00m ws\u001B[38;5;241m.\u001B[39mcell(\u001B[38;5;241m5\u001B[39m,c)\u001B[38;5;241m.\u001B[39mvalue \u001B[38;5;241m!=\u001B[39m \u001B[38;5;124m\"\u001B[39m\u001B[38;5;124m\"\u001B[39m:\n\u001B[1;32m---> 13\u001B[0m     lastcol \u001B[38;5;241m=\u001B[39m \u001B[43mws\u001B[49m\u001B[38;5;241;43m.\u001B[39;49m\u001B[43mcell\u001B[49m\u001B[43m(\u001B[49m\u001B[38;5;241;43m5\u001B[39;49m\u001B[43m,\u001B[49m\u001B[43mc\u001B[49m\u001B[43m)\u001B[49m\u001B[38;5;241;43m.\u001B[39;49m\u001B[43mcolumn\u001B[49m\n\u001B[0;32m     14\u001B[0m     c\u001B[38;5;241m+\u001B[39m\u001B[38;5;241m=\u001B[39m\u001B[38;5;241m1\u001B[39m\n\u001B[0;32m     15\u001B[0m lastcol\n",
      "\u001B[1;31mAttributeError\u001B[0m: 'EmptyCell' object has no attribute 'column'"
     ]
    }
   ],
   "source": [
    "import openpyxl\n",
    "import os\n",
    "\n",
    "file_path = os.getcwd()\n",
    "file_name = '00.Revenue-cost 2023-0-15-5-2023 2.xlsx'\n",
    "file = os.path.join(file_path, file_name)\n",
    "wb = openpyxl.load_workbook(file, read_only=True, data_only=True)\n",
    "ws = wb.worksheets[0]\n",
    "\n",
    "#getting last column\n",
    "c=1\n",
    "while ws.cell(5,c).value != \"\":\n",
    "    lastcol = ws.cell(5,c).column\n",
    "    c+=1\n",
    "lastcol\n",
    "wb.close()"
   ],
   "metadata": {
    "collapsed": false,
    "pycharm": {
     "name": "#%%\n"
    }
   }
  },
  {
   "cell_type": "code",
   "execution_count": 24,
   "outputs": [
    {
     "data": {
      "text/plain": "22"
     },
     "execution_count": 24,
     "metadata": {},
     "output_type": "execute_result"
    }
   ],
   "source": [
    "lastcol"
   ],
   "metadata": {
    "collapsed": false,
    "pycharm": {
     "name": "#%%\n"
    }
   }
  },
  {
   "cell_type": "code",
   "execution_count": 1,
   "outputs": [
    {
     "ename": "IndexError",
     "evalue": "list index out of range",
     "output_type": "error",
     "traceback": [
      "\u001B[1;31m---------------------------------------------------------------------------\u001B[0m",
      "\u001B[1;31mIndexError\u001B[0m                                Traceback (most recent call last)",
      "\u001B[1;32m~\\AppData\\Local\\Temp\\ipykernel_7804\\189095046.py\u001B[0m in \u001B[0;36m<module>\u001B[1;34m\u001B[0m\n\u001B[0;32m     68\u001B[0m     \u001B[0mf\u001B[0m\u001B[1;33m.\u001B[0m\u001B[0mwrite\u001B[0m\u001B[1;33m(\u001B[0m\u001B[1;34m','\u001B[0m\u001B[1;33m.\u001B[0m\u001B[0mjoin\u001B[0m\u001B[1;33m(\u001B[0m\u001B[0mheader\u001B[0m\u001B[1;33m)\u001B[0m \u001B[1;33m+\u001B[0m \u001B[1;34m'\\n'\u001B[0m\u001B[1;33m)\u001B[0m\u001B[1;33m\u001B[0m\u001B[1;33m\u001B[0m\u001B[0m\n\u001B[0;32m     69\u001B[0m     \u001B[1;32mfor\u001B[0m \u001B[0mi\u001B[0m \u001B[1;32min\u001B[0m \u001B[0mdict3\u001B[0m\u001B[1;33m.\u001B[0m\u001B[0mkeys\u001B[0m\u001B[1;33m(\u001B[0m\u001B[1;33m)\u001B[0m\u001B[1;33m:\u001B[0m\u001B[1;33m\u001B[0m\u001B[1;33m\u001B[0m\u001B[0m\n\u001B[1;32m---> 70\u001B[1;33m         \u001B[0mrow\u001B[0m \u001B[1;33m=\u001B[0m \u001B[1;33m[\u001B[0m\u001B[0mdict3\u001B[0m\u001B[1;33m[\u001B[0m\u001B[0mi\u001B[0m\u001B[1;33m]\u001B[0m\u001B[1;33m[\u001B[0m\u001B[1;36m0\u001B[0m\u001B[1;33m]\u001B[0m\u001B[1;33m,\u001B[0m \u001B[0mdict3\u001B[0m\u001B[1;33m[\u001B[0m\u001B[0mi\u001B[0m\u001B[1;33m]\u001B[0m\u001B[1;33m[\u001B[0m\u001B[1;36m1\u001B[0m\u001B[1;33m]\u001B[0m\u001B[1;33m,\u001B[0m \u001B[0mdict3\u001B[0m\u001B[1;33m[\u001B[0m\u001B[0mi\u001B[0m\u001B[1;33m]\u001B[0m\u001B[1;33m[\u001B[0m\u001B[1;36m2\u001B[0m\u001B[1;33m]\u001B[0m\u001B[1;33m]\u001B[0m\u001B[1;33m\u001B[0m\u001B[1;33m\u001B[0m\u001B[0m\n\u001B[0m\u001B[0;32m     71\u001B[0m         \u001B[0mf\u001B[0m\u001B[1;33m.\u001B[0m\u001B[0mwrite\u001B[0m\u001B[1;33m(\u001B[0m\u001B[1;34m','\u001B[0m\u001B[1;33m.\u001B[0m\u001B[0mjoin\u001B[0m\u001B[1;33m(\u001B[0m\u001B[0mrow\u001B[0m\u001B[1;33m)\u001B[0m \u001B[1;33m+\u001B[0m \u001B[1;34m'\\n'\u001B[0m\u001B[1;33m)\u001B[0m\u001B[1;33m\u001B[0m\u001B[1;33m\u001B[0m\u001B[0m\n\u001B[0;32m     72\u001B[0m \u001B[1;33m\u001B[0m\u001B[0m\n",
      "\u001B[1;31mIndexError\u001B[0m: list index out of range"
     ]
    }
   ],
   "source": [
    "from tkinter import Tk\n",
    "from tkinter.filedialog import askopenfilename\n",
    "import os\n",
    "import openpyxl\n",
    "import csv\n",
    "\n",
    "# define a function for user prompt of excel sheets\n",
    "def file_prompt(msg):\n",
    "    # Prompt user to select Excel file\n",
    "    root = Tk()\n",
    "    root.withdraw()\n",
    "    ini_file_path = os.getcwd()\n",
    "    excel_file_path = askopenfilename(title=msg, filetypes=[(\"Excel files\", \"*.xls*\")], initialdir=ini_file_path)\n",
    "    root.destroy()\n",
    "    return excel_file_path\n",
    "\n",
    "file_path = file_prompt('Choose your matching excel file')\n",
    "wb1 = openpyxl.load_workbook(file_path,read_only=True,data_only=True)\n",
    "ws_match = wb1['Mataching']\n",
    "\n",
    "file_path = file_prompt('Choose your Revenue excel file')\n",
    "wb2 = openpyxl.load_workbook(file_path,read_only=True,data_only=True)\n",
    "ws_rev = wb2['Revise Cost 2023'] #3rd sheet in this workbook always\n",
    "\n",
    "file_path = file_prompt('Choose your POC excel file')\n",
    "wb3 = openpyxl.load_workbook(file_path,read_only=True,data_only=True)\n",
    "ws_poc = wb3['2022'] #only one sheet\n",
    "\n",
    "# Creating a dictionary with our names from a predefined excel sheet that can be updated if more projects are added for the future\n",
    "dict = {}\n",
    "c = 0\n",
    "for i in range(2,503): # assumed number of possible project names wouldn't exceed 500\n",
    "    if ws_match.cell(i,2).value is not None:\n",
    "        # key would be cost control naming and value would be financial's naming\n",
    "        dict[ws_match.cell(i,5).value] = ws_match.cell(i,2).value\n",
    "    else:\n",
    "        c += 1\n",
    "    if c > 3:\n",
    "        break # to avoid iterating over empty rows\n",
    "\n",
    "# defining 2nd disctionary contaiaing POC values and finance names\n",
    "dict2 = {}\n",
    "crr_cell = 0\n",
    "c = 2\n",
    "while crr_cell is not None:\n",
    "    crr_cell = ws_poc.cell(2,c).value\n",
    "    dict2[crr_cell] = [ws_poc.cell(10,c).value, ws_poc.cell(20,c).value]\n",
    "    c+=1\n",
    "\n",
    "# getting project names from revenue excel sheet\n",
    "c=6\n",
    "dict3 = {}\n",
    "while ws_rev.cell(c,7).value is not None:\n",
    "    cost_name = ws_rev.cell(c,7).value\n",
    "    finance_name = dict.get(ws_rev.cell(c,7).value,0)\n",
    "    if finance_name != 0:\n",
    "        try:\n",
    "            dict3[cost_name] = [dict2[finance_name][0], dict2[finance_name][1]]\n",
    "        except:\n",
    "            pass\n",
    "    else:\n",
    "        dict3[cost_name] = ['No value', 'No Value']\n",
    "    c+=1\n",
    "\n",
    "# outputting to csv\n",
    "with open('Results.csv', 'w') as f:\n",
    "    header = ['Project', 'Total Cost', 'Total Revenue']\n",
    "    f.write(','.join(header) + '\\n')\n",
    "    for i in dict3.keys():\n",
    "        row = [dict3[i][0], dict3[i][1], dict3[i][2]]\n",
    "        f.write(','.join(row) + '\\n')\n",
    "\n",
    "\n",
    "\n",
    "\n",
    "\n",
    "wb1.close()\n",
    "wb2.close()\n",
    "wb3.close()\n",
    "#print(dict)\n",
    "#print(dict2)"
   ],
   "metadata": {
    "collapsed": false,
    "pycharm": {
     "name": "#%%\n"
    }
   }
  },
  {
   "cell_type": "code",
   "execution_count": 13,
   "outputs": [],
   "source": [
    "with open('Results.csv', 'w') as f:\n",
    "    header = ['Project', 'Total Cost', 'Total Revenue']\n",
    "    f.write(','.join(header) + '\\n')\n",
    "    for key in dict3.keys():\n",
    "        row = [key, str(dict3[key][0]), str(dict3[key][1])]\n",
    "        f.write(','.join(row) + '\\n')"
   ],
   "metadata": {
    "collapsed": false,
    "pycharm": {
     "name": "#%%\n"
    }
   }
  },
  {
   "cell_type": "code",
   "execution_count": 7,
   "outputs": [
    {
     "data": {
      "text/plain": "144"
     },
     "execution_count": 7,
     "metadata": {},
     "output_type": "execute_result"
    }
   ],
   "source": [
    "len(list(dict3.keys()))"
   ],
   "metadata": {
    "collapsed": false,
    "pycharm": {
     "name": "#%%\n"
    }
   }
  }
 ],
 "metadata": {
  "kernelspec": {
   "display_name": "Python 3",
   "language": "python",
   "name": "python3"
  },
  "language_info": {
   "codemirror_mode": {
    "name": "ipython",
    "version": 2
   },
   "file_extension": ".py",
   "mimetype": "text/x-python",
   "name": "python",
   "nbconvert_exporter": "python",
   "pygments_lexer": "ipython2",
   "version": "2.7.6"
  }
 },
 "nbformat": 4,
 "nbformat_minor": 0
}